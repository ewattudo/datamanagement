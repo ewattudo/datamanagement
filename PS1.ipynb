{
  "nbformat": 4,
  "nbformat_minor": 0,
  "metadata": {
    "colab": {
      "provenance": [],
      "toc_visible": true,
      "authorship_tag": "ABX9TyMWoJ+yYzlzrdeG/XPgBlEs",
      "include_colab_link": true
    },
    "kernelspec": {
      "name": "python3",
      "display_name": "Python 3"
    },
    "language_info": {
      "name": "python"
    }
  },
  "cells": [
    {
      "cell_type": "markdown",
      "metadata": {
        "id": "view-in-github",
        "colab_type": "text"
      },
      "source": [
        "<a href=\"https://colab.research.google.com/github/ewattudo/datamanagement/blob/main/PS1.ipynb\" target=\"_parent\"><img src=\"https://colab.research.google.com/assets/colab-badge.svg\" alt=\"Open In Colab\"/></a>"
      ]
    },
    {
      "cell_type": "markdown",
      "source": [],
      "metadata": {
        "id": "LbcmK8Zr4qOS"
      }
    },
    {
      "cell_type": "markdown",
      "source": [
        "# PS 1 - Erick Watt-Udogu"
      ],
      "metadata": {
        "id": "H6F2rllN4raF"
      }
    },
    {
      "cell_type": "markdown",
      "source": [
        "# Setup Code"
      ],
      "metadata": {
        "id": "Gz8UqCuf4yD6"
      }
    },
    {
      "cell_type": "code",
      "source": [
        "#Using code from previous projects and Dr. Adam\n",
        "import time, os, sys, re #basics\n",
        "import zipfile, json, datetime, string\n",
        "import numpy as np #basic math\n",
        "from statistics import * #stats\n",
        "\n",
        "import matplotlib.pyplot as plt\n",
        "\n",
        "import pandas as pd\n",
        "import pandas_datareader as pdr\n",
        "from pandas_datareader import wb\n",
        "from pandas.io.formats.style import Styler\n",
        "\n"
      ],
      "metadata": {
        "id": "0LRwqiNm4xX0"
      },
      "execution_count": 1,
      "outputs": []
    },
    {
      "cell_type": "code",
      "source": [],
      "metadata": {
        "id": "0F0FT-mm8gX1"
      },
      "execution_count": null,
      "outputs": []
    },
    {
      "cell_type": "code",
      "execution_count": null,
      "metadata": {
        "id": "DzAm10m04oy6"
      },
      "outputs": [],
      "source": []
    }
  ]
}